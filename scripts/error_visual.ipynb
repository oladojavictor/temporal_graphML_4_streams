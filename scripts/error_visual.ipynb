{
 "cells": [
  {
   "cell_type": "code",
   "execution_count": 1,
   "id": "580e24cb-df77-475e-9601-bd75a499bf83",
   "metadata": {},
   "outputs": [],
   "source": [
    "import numpy as np"
   ]
  },
  {
   "cell_type": "code",
   "execution_count": 2,
   "id": "ee91fc1d-3c9f-479a-93b8-40c19cdcfd13",
   "metadata": {},
   "outputs": [],
   "source": [
    "labels_yhat_cost = np.load(\"evaluation_labels_yhat_cost.npy\")\n",
    "list_indices_surf_subsurface = np.load(\"list_indices_surf_subsurface.npy\").tolist()"
   ]
  },
  {
   "cell_type": "code",
   "execution_count": 3,
   "id": "ceec3e65-edc4-4ada-9a4b-c62a0dffbcc1",
   "metadata": {},
   "outputs": [
    {
     "data": {
      "text/plain": [
       "(6, 3, 5, 740, 16, 365)"
      ]
     },
     "execution_count": 3,
     "metadata": {},
     "output_type": "execute_result"
    }
   ],
   "source": [
    "labels_yhat_cost.shape\n",
    "# 6 - sites and periods\n",
    "# 3 - labels yhat cost\n",
    "# 5 - batch\n",
    "# 740 - nodes\n",
    "# 16 - target features\n",
    "# 365 - sequence length"
   ]
  },
  {
   "cell_type": "code",
   "execution_count": 4,
   "id": "9492c00b-9bda-4b44-b14c-1cae15800f34",
   "metadata": {},
   "outputs": [],
   "source": [
    "site1_lab = labels_yhat_cost[0,0,0,:,:,:]\n",
    "site1_pred = labels_yhat_cost[0,1,0,:,:,:]\n",
    "site1_cost = labels_yhat_cost[0,2,0,:,:,:]"
   ]
  },
  {
   "cell_type": "code",
   "execution_count": 5,
   "id": "6536beeb-f0b2-4e72-8676-2cfdc1f42c08",
   "metadata": {},
   "outputs": [],
   "source": [
    "def resample(D_array, resampling_list): # change subsurface arrangement to imitate surface arrangement\n",
    "    new_3D_array = np.zeros(D_array.shape)\n",
    "    for n,i in enumerate(resampling_list):\n",
    "        new_3D_array[:,n,:] = D_array[:,i,:]\n",
    "    return new_3D_array\n",
    "\n",
    "\n",
    "def re_resample(D_array, resampling_list): # change imitation of surface mesh back to subsurface mesh\n",
    "    new_3D_array = np.zeros(D_array.shape)\n",
    "    for n,i in enumerate(resampling_list):\n",
    "        new_3D_array[:,i,:] = D_array[:,n,:]\n",
    "    return new_3D_array"
   ]
  },
  {
   "cell_type": "code",
   "execution_count": 6,
   "id": "dadb7e52-1dd6-4c20-91e2-8900da8d59ca",
   "metadata": {},
   "outputs": [
    {
     "name": "stdout",
     "output_type": "stream",
     "text": [
      "(365, 740, 16) (365, 740, 16) (365, 740, 16)\n"
     ]
    }
   ],
   "source": [
    "# ATS mesh shape is (1461, 740, 18) i.e., (time, node, features)\n",
    "# while GNN shape is (740,18,365) i.e., (node, features, time)\n",
    "site1_lab = np.transpose(site1_lab, (2, 0, 1))\n",
    "site1_pred = np.transpose(site1_pred, (2, 0, 1))\n",
    "site1_cost = np.transpose(site1_cost, (2, 0, 1))\n",
    "#site1 = np.square(site1)\n",
    "print(site1_cost.shape,site1_lab.shape,site1_pred.shape )"
   ]
  },
  {
   "cell_type": "code",
   "execution_count": null,
   "id": "1209cd15-1bfa-4f23-b17f-ee9e09d048a2",
   "metadata": {},
   "outputs": [],
   "source": [
    "import numpy as np\n",
    "import modvis.ats_xdmf as xdmf\n",
    "import modvis.plot_vis_file as pv\n",
    "import pandas as pd\n",
    "from matplotlib import pyplot as plt\n",
    "import h5py\n",
    "import os\n",
    "import re\n",
    "import datetime\n",
    "from datetime import  timedelta\n",
    "import pandas as pd\n",
    "%matplotlib inline\n",
    "%config InlineBackend.figure_format = 'retina'\n",
    "\n",
    "model_dir = \"no_heter_snow\""
   ]
  }
 ],
 "metadata": {
  "kernelspec": {
   "display_name": "ATS",
   "language": "python",
   "name": "ats"
  },
  "language_info": {
   "codemirror_mode": {
    "name": "ipython",
    "version": 3
   },
   "file_extension": ".py",
   "mimetype": "text/x-python",
   "name": "python",
   "nbconvert_exporter": "python",
   "pygments_lexer": "ipython3",
   "version": "3.13.1"
  }
 },
 "nbformat": 4,
 "nbformat_minor": 5
}
